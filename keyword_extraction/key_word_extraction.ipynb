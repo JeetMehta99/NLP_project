{
 "cells": [
  {
   "cell_type": "code",
   "execution_count": 2,
   "metadata": {},
   "outputs": [],
   "source": [
    "import pandas as pd\n",
    "from keyphrase_vectorizers import KeyphraseCountVectorizer\n",
    "\n",
    "from keybert import KeyBERT"
   ]
  },
  {
   "cell_type": "code",
   "execution_count": 167,
   "metadata": {},
   "outputs": [],
   "source": [
    "all_files = ['arsenal.csv',\n",
    "'aston_vila.csv',\n",
    "'chelsea.csv',\n",
    "'everton.csv',\n",
    "'leeds.csv',\n",
    "'leicester.csv',\n",
    "'man_city.csv',\n",
    "'man_united.csv']\n",
    "\n",
    "tweet_types = [\"positive\", \"negative\", \"neutral\"]"
   ]
  },
  {
   "cell_type": "code",
   "execution_count": 169,
   "metadata": {},
   "outputs": [
    {
     "name": "stdout",
     "output_type": "stream",
     "text": [
      "{'binary': False, 'dtype': <class 'numpy.int64'>, 'lowercase': True, 'max_df': None, 'min_df': None, 'pos_pattern': '<J.*>*<N.*>+', 'spacy_pipeline': 'en_core_web_sm', 'stop_words': 'english', 'workers': 1}\n"
     ]
    }
   ],
   "source": [
    "vectorizer = KeyphraseCountVectorizer()\n",
    "\n",
    "# Print parameters\n",
    "print(vectorizer.get_params())\n",
    "\n",
    "kw_model = KeyBERT()"
   ]
  },
  {
   "cell_type": "code",
   "execution_count": 170,
   "metadata": {},
   "outputs": [
    {
     "name": "stderr",
     "output_type": "stream",
     "text": [
      "/home/harsh/anaconda3/envs/score-denoise/lib/python3.8/site-packages/keybert/_model.py:130: UserWarning: Although extracting keywords for multiple documents is faster than iterating over single documents, it requires significantly more memory to hold all word embeddings. Use this at your own discretion!\n",
      "  warnings.warn(\n",
      "319it [00:00, 1782.15it/s]\n",
      "/home/harsh/anaconda3/envs/score-denoise/lib/python3.8/site-packages/keybert/_model.py:130: UserWarning: Although extracting keywords for multiple documents is faster than iterating over single documents, it requires significantly more memory to hold all word embeddings. Use this at your own discretion!\n",
      "  warnings.warn(\n",
      "459it [00:00, 1820.89it/s]\n",
      "/home/harsh/anaconda3/envs/score-denoise/lib/python3.8/site-packages/keybert/_model.py:130: UserWarning: Although extracting keywords for multiple documents is faster than iterating over single documents, it requires significantly more memory to hold all word embeddings. Use this at your own discretion!\n",
      "  warnings.warn(\n",
      "1173it [00:00, 1444.52it/s]\n",
      "/home/harsh/anaconda3/envs/score-denoise/lib/python3.8/site-packages/keybert/_model.py:130: UserWarning: Although extracting keywords for multiple documents is faster than iterating over single documents, it requires significantly more memory to hold all word embeddings. Use this at your own discretion!\n",
      "  warnings.warn(\n",
      "651it [00:00, 1624.94it/s]\n",
      "/home/harsh/anaconda3/envs/score-denoise/lib/python3.8/site-packages/keybert/_model.py:130: UserWarning: Although extracting keywords for multiple documents is faster than iterating over single documents, it requires significantly more memory to hold all word embeddings. Use this at your own discretion!\n",
      "  warnings.warn(\n",
      "557it [00:00, 1805.91it/s]\n",
      "/home/harsh/anaconda3/envs/score-denoise/lib/python3.8/site-packages/keybert/_model.py:130: UserWarning: Although extracting keywords for multiple documents is faster than iterating over single documents, it requires significantly more memory to hold all word embeddings. Use this at your own discretion!\n",
      "  warnings.warn(\n",
      "2054it [00:01, 1507.58it/s]\n",
      "/home/harsh/anaconda3/envs/score-denoise/lib/python3.8/site-packages/keybert/_model.py:130: UserWarning: Although extracting keywords for multiple documents is faster than iterating over single documents, it requires significantly more memory to hold all word embeddings. Use this at your own discretion!\n",
      "  warnings.warn(\n",
      "345it [00:00, 1782.51it/s]\n",
      "/home/harsh/anaconda3/envs/score-denoise/lib/python3.8/site-packages/keybert/_model.py:130: UserWarning: Although extracting keywords for multiple documents is faster than iterating over single documents, it requires significantly more memory to hold all word embeddings. Use this at your own discretion!\n",
      "  warnings.warn(\n",
      "483it [00:00, 1732.30it/s]\n",
      "/home/harsh/anaconda3/envs/score-denoise/lib/python3.8/site-packages/keybert/_model.py:130: UserWarning: Although extracting keywords for multiple documents is faster than iterating over single documents, it requires significantly more memory to hold all word embeddings. Use this at your own discretion!\n",
      "  warnings.warn(\n",
      "1437it [00:00, 1532.85it/s]\n",
      "/home/harsh/anaconda3/envs/score-denoise/lib/python3.8/site-packages/keybert/_model.py:130: UserWarning: Although extracting keywords for multiple documents is faster than iterating over single documents, it requires significantly more memory to hold all word embeddings. Use this at your own discretion!\n",
      "  warnings.warn(\n",
      "589it [00:00, 1767.46it/s]\n",
      "/home/harsh/anaconda3/envs/score-denoise/lib/python3.8/site-packages/keybert/_model.py:130: UserWarning: Although extracting keywords for multiple documents is faster than iterating over single documents, it requires significantly more memory to hold all word embeddings. Use this at your own discretion!\n",
      "  warnings.warn(\n",
      "451it [00:00, 1826.95it/s]\n",
      "/home/harsh/anaconda3/envs/score-denoise/lib/python3.8/site-packages/keybert/_model.py:130: UserWarning: Although extracting keywords for multiple documents is faster than iterating over single documents, it requires significantly more memory to hold all word embeddings. Use this at your own discretion!\n",
      "  warnings.warn(\n",
      "2164it [00:01, 1366.49it/s]\n",
      "/home/harsh/anaconda3/envs/score-denoise/lib/python3.8/site-packages/keybert/_model.py:130: UserWarning: Although extracting keywords for multiple documents is faster than iterating over single documents, it requires significantly more memory to hold all word embeddings. Use this at your own discretion!\n",
      "  warnings.warn(\n",
      "1053it [00:00, 1570.04it/s]\n",
      "/home/harsh/anaconda3/envs/score-denoise/lib/python3.8/site-packages/keybert/_model.py:130: UserWarning: Although extracting keywords for multiple documents is faster than iterating over single documents, it requires significantly more memory to hold all word embeddings. Use this at your own discretion!\n",
      "  warnings.warn(\n",
      "533it [00:00, 1814.89it/s]\n",
      "/home/harsh/anaconda3/envs/score-denoise/lib/python3.8/site-packages/keybert/_model.py:130: UserWarning: Although extracting keywords for multiple documents is faster than iterating over single documents, it requires significantly more memory to hold all word embeddings. Use this at your own discretion!\n",
      "  warnings.warn(\n",
      "1657it [00:01, 1463.37it/s]\n",
      "/home/harsh/anaconda3/envs/score-denoise/lib/python3.8/site-packages/keybert/_model.py:130: UserWarning: Although extracting keywords for multiple documents is faster than iterating over single documents, it requires significantly more memory to hold all word embeddings. Use this at your own discretion!\n",
      "  warnings.warn(\n",
      "438it [00:00, 1685.37it/s]\n",
      "/home/harsh/anaconda3/envs/score-denoise/lib/python3.8/site-packages/keybert/_model.py:130: UserWarning: Although extracting keywords for multiple documents is faster than iterating over single documents, it requires significantly more memory to hold all word embeddings. Use this at your own discretion!\n",
      "  warnings.warn(\n",
      "297it [00:00, 1797.46it/s]\n",
      "/home/harsh/anaconda3/envs/score-denoise/lib/python3.8/site-packages/keybert/_model.py:130: UserWarning: Although extracting keywords for multiple documents is faster than iterating over single documents, it requires significantly more memory to hold all word embeddings. Use this at your own discretion!\n",
      "  warnings.warn(\n",
      "1482it [00:01, 1352.03it/s]\n",
      "/home/harsh/anaconda3/envs/score-denoise/lib/python3.8/site-packages/keybert/_model.py:130: UserWarning: Although extracting keywords for multiple documents is faster than iterating over single documents, it requires significantly more memory to hold all word embeddings. Use this at your own discretion!\n",
      "  warnings.warn(\n",
      "460it [00:00, 1641.11it/s]\n",
      "/home/harsh/anaconda3/envs/score-denoise/lib/python3.8/site-packages/keybert/_model.py:130: UserWarning: Although extracting keywords for multiple documents is faster than iterating over single documents, it requires significantly more memory to hold all word embeddings. Use this at your own discretion!\n",
      "  warnings.warn(\n",
      "698it [00:00, 1574.89it/s]\n",
      "/home/harsh/anaconda3/envs/score-denoise/lib/python3.8/site-packages/keybert/_model.py:130: UserWarning: Although extracting keywords for multiple documents is faster than iterating over single documents, it requires significantly more memory to hold all word embeddings. Use this at your own discretion!\n",
      "  warnings.warn(\n",
      "2280it [00:01, 1371.48it/s]\n",
      "/home/harsh/anaconda3/envs/score-denoise/lib/python3.8/site-packages/keybert/_model.py:130: UserWarning: Although extracting keywords for multiple documents is faster than iterating over single documents, it requires significantly more memory to hold all word embeddings. Use this at your own discretion!\n",
      "  warnings.warn(\n",
      "253it [00:00, 1568.99it/s]\n",
      "/home/harsh/anaconda3/envs/score-denoise/lib/python3.8/site-packages/keybert/_model.py:130: UserWarning: Although extracting keywords for multiple documents is faster than iterating over single documents, it requires significantly more memory to hold all word embeddings. Use this at your own discretion!\n",
      "  warnings.warn(\n",
      "280it [00:00, 1792.77it/s]\n",
      "/home/harsh/anaconda3/envs/score-denoise/lib/python3.8/site-packages/keybert/_model.py:130: UserWarning: Although extracting keywords for multiple documents is faster than iterating over single documents, it requires significantly more memory to hold all word embeddings. Use this at your own discretion!\n",
      "  warnings.warn(\n",
      "1106it [00:00, 1522.67it/s]\n"
     ]
    }
   ],
   "source": [
    "for filenames in all_files:\n",
    "    df = pd.read_csv(filenames)\n",
    "    df = df.drop_duplicates(subset=['processed_tweet'])\n",
    "\n",
    "    for tweet_type in tweet_types:\n",
    "        positive_df = df[df[tweet_type] > 0.55] \n",
    "\n",
    "        join_tweets = \"\"\n",
    "        all_tweets = []\n",
    "\n",
    "        for index, row in positive_df.iterrows():\n",
    "                \n",
    "            f=len(join_tweets.split()) \n",
    "            tweet_length = len(row['processed_tweet'].split())\n",
    "            if f + tweet_length <= 140:\n",
    "                join_tweets = join_tweets + \" \" + str(row['processed_tweet'])\n",
    "            \n",
    "            else:\n",
    "                all_tweets.append(join_tweets)\n",
    "                join_tweets = str(row['processed_tweet'])\n",
    "\n",
    "       \n",
    "\n",
    "        keywords = kw_model.extract_keywords(docs=all_tweets, vectorizer=KeyphraseCountVectorizer())\n",
    "\n",
    "        tweet_detail = \"tweet\" + tweet_type\n",
    "\n",
    "        dict = {tweet_detail : all_tweets, 'keyphrases' : keywords}\n",
    "\n",
    "        new_df = pd.DataFrame(dict)\n",
    "\n",
    "        new_df.to_csv(tweet_type + \"_\" + filenames)\n"
   ]
  },
  {
   "cell_type": "code",
   "execution_count": null,
   "metadata": {},
   "outputs": [],
   "source": []
  }
 ],
 "metadata": {
  "interpreter": {
   "hash": "2da2a73e1fa3d3f07a74f997a661a835fd4e4fbfd490ebdaf38d60cbb8de6028"
  },
  "kernelspec": {
   "display_name": "Python 3.8.11 ('score-denoise')",
   "language": "python",
   "name": "python3"
  },
  "language_info": {
   "codemirror_mode": {
    "name": "ipython",
    "version": 3
   },
   "file_extension": ".py",
   "mimetype": "text/x-python",
   "name": "python",
   "nbconvert_exporter": "python",
   "pygments_lexer": "ipython3",
   "version": "3.8.11"
  },
  "orig_nbformat": 4
 },
 "nbformat": 4,
 "nbformat_minor": 2
}
