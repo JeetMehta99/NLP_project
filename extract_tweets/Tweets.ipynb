{
 "cells": [
  {
   "cell_type": "code",
   "execution_count": null,
   "id": "c337d6e2",
   "metadata": {},
   "outputs": [],
   "source": [
    "#Install and import the required packages.\n",
    "\n",
    "# !pip install tweepy\n",
    "\n",
    "# !pip install tweepy --upgrade\n",
    "\n",
    "# !pip3 install twarc\n",
    "\n",
    "import tweepy\n",
    "import pandas as pd\n",
    "\n",
    "import datetime\n",
    "import json\n",
    "from twarc import Twarc2, expansions\n"
   ]
  },
  {
   "cell_type": "code",
   "execution_count": null,
   "id": "76f4d908",
   "metadata": {},
   "outputs": [],
   "source": [
    "#The following should be the content of the config.py file\n",
    "\n",
    "# API_KEY = \"######\"\n",
    "# API_SECRET = \"######\"\n",
    "# BEARER_TOKEN = \"############\"\n",
    "# ACCESS_TOKEN = \"############\"\n",
    "# ACCESS_TOKEN_SECRET = \"######\"\n",
    "\n",
    "\n",
    "#config.py file, present in the same directory\n",
    "import config\n",
    "\n",
    "client = Twarc2(bearer_token = config.BEARER_TOKEN)"
   ]
  },
  {
   "cell_type": "code",
   "execution_count": null,
   "id": "04b82f33",
   "metadata": {},
   "outputs": [],
   "source": [
    "def main():\n",
    "\n",
    "\n",
    "    # Specify the start time in UTC for the time period you want Tweets from\n",
    "    start_time = datetime.datetime(2020, 9, 12, 0, 0, 0, 0, datetime.timezone.utc)\n",
    "\n",
    "    # Specify the end time in UTC for the time period you want Tweets from\n",
    "    end_time = datetime.datetime(2021, 5, 23, 0, 0, 0, 0, datetime.timezone.utc)\n",
    "\n",
    "    # This is where we specify our query as discussed in module 5\n",
    "    query = \"#CPFC OR crystal palace -is:retweet\"\n",
    "\n",
    "    # The search_all method call the full-archive search endpoint to get Tweets based on the query, start and end times\n",
    "    search_results = client.search_all(query=query, start_time=start_time, end_time=end_time, max_results=100)\n",
    "\n",
    "    # Twarc returns all Tweets for the criteria set above, so we page through the results\n",
    "    for page in search_results:\n",
    "        # The Twitter API v2 returns the Tweet information and the user, media etc. separately\n",
    "        # so we use expansions.flatten to get all the information in a single JSON\n",
    "        result = expansions.flatten(page)\n",
    "        for tweet in result:\n",
    "            # Append the tweets to the below mentioned filename.\n",
    "            f = open(\"palace.txt\", \"a\")\n",
    "            f.write(tweet['text'])\n",
    "            f.write(\"\\n\")\n",
    "            \n",
    "            f.close()\n",
    "\n",
    "\n",
    "\n",
    "\n",
    "if __name__ == \"__main__\":\n",
    "    main()"
   ]
  }
 ],
 "metadata": {
  "kernelspec": {
   "display_name": "Python 3 (ipykernel)",
   "language": "python",
   "name": "python3"
  },
  "language_info": {
   "codemirror_mode": {
    "name": "ipython",
    "version": 3
   },
   "file_extension": ".py",
   "mimetype": "text/x-python",
   "name": "python",
   "nbconvert_exporter": "python",
   "pygments_lexer": "ipython3",
   "version": "3.9.7"
  }
 },
 "nbformat": 4,
 "nbformat_minor": 5
}
